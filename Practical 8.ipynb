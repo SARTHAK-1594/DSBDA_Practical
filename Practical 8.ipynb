{
 "cells": [
  {
   "cell_type": "code",
   "execution_count": null,
   "id": "d84a989a-1907-432e-abd7-8b17c1ddbafe",
   "metadata": {},
   "outputs": [],
   "source": [
    "# Name:-Sarthak Pagar\n",
    "# Roll No.:-40\n",
    "# Class:-TE(IT)\n",
    "# Practical 8:-Create a review scrapper for any ecommerce website to fetch real time comments, reviews, ratings, comment tags, customer name using Python."
   ]
  },
  {
   "cell_type": "code",
   "execution_count": 1,
   "id": "aa6fbede-91a1-4598-acee-644f63c7e97c",
   "metadata": {},
   "outputs": [],
   "source": [
    "import requests\n",
    "from bs4 import BeautifulSoup\n",
    "import pandas as pd\n",
    "import time"
   ]
  },
  {
   "cell_type": "code",
   "execution_count": 2,
   "id": "ae2de223-d025-4290-b468-4ab4f16773a4",
   "metadata": {},
   "outputs": [],
   "source": [
    "# Base URL (without page number, which we'll add)\n",
    "base_url = \"https://www.flipkart.com/apple-iphone-13-blue-128-gb/product-reviews/itm6c601e0a58b3c?page={}&pid=MOBG6VF5SMXPNQHG\""
   ]
  },
  {
   "cell_type": "code",
   "execution_count": 3,
   "id": "754a43c5-05c2-4e04-a8c7-f7d67100be6e",
   "metadata": {},
   "outputs": [
    {
     "data": {
      "text/plain": [
       "<Response [200]>"
      ]
     },
     "execution_count": 3,
     "metadata": {},
     "output_type": "execute_result"
    }
   ],
   "source": [
    "request1 = requests.get('https://www.flipkart.com/apple-iphone-13-blue-128-gb/p/itm6c601e0a58b3c?pid=MOBG6VF5SMXPNQHG&lid=LSTMOBG6VF5SMXPNQHGL5FN51&marketplace=FLIPKART&q=iphone&store=tyy%2F4io&srno=s_1_1&otracker=search&otracker1=search&fm=organic&iid=879c0b11-c620-4bc7-bda0-ed28e3da8540.MOBG6VF5SMXPNQHG.SEARCH&ppt=clp&ppn=samsung-mobile-store&ssid=jjk9t92he80000001744810813121&qH=0b3f45b266a97d70')\n",
    "request1"
   ]
  },
  {
   "cell_type": "code",
   "execution_count": 4,
   "id": "0588d526-2060-4a7c-8df4-ec996322fbfc",
   "metadata": {},
   "outputs": [],
   "source": [
    "# Data containers\n",
    "data = []"
   ]
  },
  {
   "cell_type": "code",
   "execution_count": 5,
   "id": "d020cd5f-e24f-4ded-889a-4f3f9c64fbfd",
   "metadata": {},
   "outputs": [
    {
     "name": "stdout",
     "output_type": "stream",
     "text": [
      "Fetching page 1...\n"
     ]
    }
   ],
   "source": [
    "# Loop through first pages\n",
    "for page in range(1, 2):\n",
    "    print(f\"Fetching page {page}...\")\n",
    "    url = base_url.format(page)\n",
    "    headers = {\n",
    "        'User-Agent': 'Mozilla/5.0 (Windows NT 10.0; Win64; x64) AppleWebKit/537.36 (KHTML, like Gecko) Chrome/90.0.4430.93 Safari/537.36'\n",
    "    }\n",
    "    \n",
    "    res = requests.get(url, headers=headers)\n",
    "    soup = BeautifulSoup(res.text, 'html.parser')\n",
    "    \n",
    "    # Extracting data\n",
    "    names = soup.find_all('p', class_='_2NsDsF AwS1CA')  # customer names\n",
    "    reviews = soup.find_all('div', class_='ZmyHeo')      # review text\n",
    "    ratings = soup.find_all('div', class_='XQDdHH Ga3i8K')  # rating stars\n",
    "    \n",
    "    for name, review, rating in zip(names, reviews, ratings):\n",
    "        data.append({\n",
    "            'Customer Name': name.get_text(strip=True),\n",
    "            'Rating': rating.get_text(strip=True),\n",
    "            'Review': review.get_text(strip=True)\n",
    "        })\n",
    "    \n",
    "    time.sleep(2)  # Be polite and avoid getting blocked\n",
    "\n",
    "# Convert to DataFrame\n",
    "df = pd.DataFrame(data)"
   ]
  },
  {
   "cell_type": "code",
   "execution_count": 6,
   "id": "f001181e-29cf-408c-adb5-992ff2f10b8a",
   "metadata": {},
   "outputs": [
    {
     "name": "stdout",
     "output_type": "stream",
     "text": [
      "Customer: Mahim Chauhan\n",
      "Rating: 5\n",
      "Review: I switch to ios from android after 10 years so this review might help for migratorsIt’s been a month using the iPhone13 and this was my experience1. Design - its simple and no nonsense design . Expect white and pink rest of the colours are fingerprint magnets.  I have seen all the colours and I highly recommend the pink . It’s so light pink which makes it not girlish. See it for yourself it really looks so premium in light pink colour.For rest of it except white the aluminium frame wil...READ MORE\n",
      "\n",
      "Customer: Nikil Ojha\n",
      "Rating: 5\n",
      "Review: Nice upgrade!!Design superCamera is decentPerformance superBattery life is greatREAD MORE\n",
      "\n",
      "Customer: Flipkart Customer\n",
      "Rating: 5\n",
      "Review: Happy to have this phoneREAD MORE\n",
      "\n",
      "Customer: Arnab Das\n",
      "Rating: 5\n",
      "Review: Awesome battery backup amazing camera, a all day batter backup  improved and brilliant IOs 16.1 oled display dolby speakers and lot more, just close your eyes and go for it. One of the best handy smartphones ever and in great discount given by flipkart in big billion days 🔥READ MORE\n",
      "\n",
      "Customer: Flipkart Customer\n",
      "Rating: 5\n",
      "Review: Best of bestREAD MORE\n",
      "\n",
      "Customer: Pushpita Mayra\n",
      "Rating: 5\n",
      "Review: Awesome phoneExcellent camera qualityREAD MORE\n",
      "\n",
      "Customer: Flipkart Customer\n",
      "Rating: 5\n",
      "Review: I upgraded to 13 from xs and my experience with this had been extraordinary . The user interface and the camera is too good .Just in love with this extraordinary device .I just shared some photos clicked from this phone so that everyone can have an idea about how good the camera is compared all other flagship devices . The lens inside the device is so efficient that it  automatically reduces the noise in the picture making it very crisp and clear  .READ MORE\n",
      "\n",
      "Customer: Srinivash Bhoi\n",
      "Rating: 5\n",
      "Review: Pros-rear Camera is awesome.double speaker sound equal loud and base is superb display superb. Design also good.Battery back up superb.Cons-front camera is good not awesomeAfter switching from android you feel one minus point is the display notch .READ MORE\n",
      "\n",
      "Customer: Mahesh Jaiswara\n",
      "Rating: 5\n",
      "Review: LOOK - Its my first love apple i phone 13, first time purchase this phone but its look awesome in white colour love it.  hand feel too much premium.CAMERA - Mind blowing camera performance font camera and rear cameras take too much awesome qualities pictures . Night mode is supergood low light performance impressed mePERFORMANCE - its bionic a15 chipset faster ,have 60hz refresh rate but its beatable 120hzDISPLAY - uts OLD XDR RETINA display too much good look display i get 10 of 10 for d...READ MORE\n",
      "\n",
      "Customer: Vaibhav  Raj\n",
      "Rating: 5\n",
      "Review: Amazing beast....As expected , didn't disappoint me,Had to sell hard chunk of kidneys to get it !!;pCamera quality is definitely a super upgradeBattery is super.. easily last throughout the day with heavy usage.Light weight looks stylish what else you need??Starlight color just wow!!!Apple it would have been better if you should  have given an adaptor. Increase 2k price and give it in box!!!Simple ....Edit 1 : After 14 days of usage highly satisfied with battery performance, Last thr...READ MORE\n",
      "\n"
     ]
    }
   ],
   "source": [
    "# Show customer-wise output\n",
    "for i, row in df.iterrows():\n",
    "    print(f\"Customer: {row['Customer Name']}\")\n",
    "    print(f\"Rating: {row['Rating']}\")\n",
    "    print(f\"Review: {row['Review']}\\n\")"
   ]
  },
  {
   "cell_type": "code",
   "execution_count": 7,
   "id": "04e7f9fb-c51e-46f8-8fc0-876e0d168471",
   "metadata": {},
   "outputs": [
    {
     "name": "stdout",
     "output_type": "stream",
     "text": [
      "\n",
      "✅ Data saved to reviews.csv\n"
     ]
    }
   ],
   "source": [
    "# Export to CSV\n",
    "df.to_csv('reviews.csv', index=False)\n",
    "print(\"\\n✅ Data saved to reviews.csv\")"
   ]
  },
  {
   "cell_type": "code",
   "execution_count": null,
   "id": "4342611d-edac-429b-9fa6-51aa98d35ef1",
   "metadata": {},
   "outputs": [],
   "source": []
  }
 ],
 "metadata": {
  "kernelspec": {
   "display_name": "Python 3 (ipykernel)",
   "language": "python",
   "name": "python3"
  },
  "language_info": {
   "codemirror_mode": {
    "name": "ipython",
    "version": 3
   },
   "file_extension": ".py",
   "mimetype": "text/x-python",
   "name": "python",
   "nbconvert_exporter": "python",
   "pygments_lexer": "ipython3",
   "version": "3.11.3"
  }
 },
 "nbformat": 4,
 "nbformat_minor": 5
}
